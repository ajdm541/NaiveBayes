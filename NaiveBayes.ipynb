{
 "cells": [
  {
   "cell_type": "code",
   "execution_count": null,
   "metadata": {},
   "outputs": [],
   "source": [
    "#Imports and libraries \n",
    "import numpy as np\n",
    "import panda as pd"
   ]
  },
  {
   "cell_type": "code",
   "execution_count": null,
   "metadata": {},
   "outputs": [],
   "source": [
    "#Loading Training Data\n",
    "TrainingData = pd.read_csv('trg.csv')"
   ]
  },
  {
   "cell_type": "code",
   "execution_count": null,
   "metadata": {},
   "outputs": [],
   "source": [
    "#Preprocessing\n"
   ]
  },
  {
   "cell_type": "code",
   "execution_count": null,
   "metadata": {},
   "outputs": [],
   "source": [
    "#Cross-Validation Test\n",
    "folds = 10\n",
    "cycle = 1\n",
    "performance = {}\n",
    "\n",
    "#for(cycle=1; cycle<=folds; cycle++)\n",
    "for x in DataTraining \n",
    "    testFold = DataTraining[cycle]\n",
    "    trainingFolds = DataTraining.pop(cycle)\n",
    "    performance[cycle] = runtest(trainingFolds, testFold)\n",
    "    cycle++ \n",
    "\n",
    "averagePerformance = np.sum(performance)/folds\n",
    "    "
   ]
  },
  {
   "cell_type": "code",
   "execution_count": null,
   "metadata": {},
   "outputs": [],
   "source": [
    "#Generate Solution and Export to CSV\n",
    "\n",
    "df.to_cvs('amon897.csv')"
   ]
  }
 ],
 "metadata": {
  "kernelspec": {
   "display_name": "Python 3",
   "language": "python",
   "name": "python3"
  },
  "language_info": {
   "codemirror_mode": {
    "name": "ipython",
    "version": 3
   },
   "file_extension": ".py",
   "mimetype": "text/x-python",
   "name": "python",
   "nbconvert_exporter": "python",
   "pygments_lexer": "ipython3",
   "version": "3.7.3"
  }
 },
 "nbformat": 4,
 "nbformat_minor": 2
}
